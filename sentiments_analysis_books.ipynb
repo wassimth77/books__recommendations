{
 "cells": [
  {
   "cell_type": "code",
   "id": "initial_id",
   "metadata": {
    "collapsed": true,
    "ExecuteTime": {
     "end_time": "2025-10-06T19:30:04.279791Z",
     "start_time": "2025-10-06T19:30:02.319619Z"
    }
   },
   "source": [
    "import pandas as pd\n",
    "\n",
    "books = pd.read_csv(\"books_with_final_category.csv\")"
   ],
   "outputs": [],
   "execution_count": 23
  },
  {
   "metadata": {
    "ExecuteTime": {
     "end_time": "2025-10-06T19:30:20.670814Z",
     "start_time": "2025-10-06T19:30:12.819626Z"
    }
   },
   "cell_type": "code",
   "source": [
    "from transformers import pipeline\n",
    "classifier = pipeline(\"text-classification\",\n",
    "                      model=\"j-hartmann/emotion-english-distilroberta-base\",\n",
    "                      top_k = None,\n",
    "                      device = \"cpu\")"
   ],
   "id": "30484c9bcdce79d",
   "outputs": [
    {
     "name": "stderr",
     "output_type": "stream",
     "text": [
      "Device set to use cpu\n"
     ]
    }
   ],
   "execution_count": 24
  },
  {
   "metadata": {
    "ExecuteTime": {
     "end_time": "2025-10-06T19:30:20.864347Z",
     "start_time": "2025-10-06T19:30:20.793893Z"
    }
   },
   "cell_type": "code",
   "source": "books[\"description\"][0]",
   "id": "1526bcc142f60306",
   "outputs": [
    {
     "data": {
      "text/plain": [
       "'A NOVEL THAT READERS and critics have been eagerly anticipating for over a decade, Gilead is an astonishingly imagined story of remarkable lives. John Ames is a preacher, the son of a preacher and the grandson (both maternal and paternal) of preachers. It’s 1956 in Gilead, Iowa, towards the end of the Reverend Ames’s life, and he is absorbed in recording his family’s story, a legacy for the young son he will never see grow up. Haunted by his grandfather’s presence, John tells of the rift between his grandfather and his father: the elder, an angry visionary who fought for the abolitionist cause, and his son, an ardent pacifist. He is troubled, too, by his prodigal namesake, Jack (John Ames) Boughton, his best friend’s lost son who returns to Gilead searching for forgiveness and redemption. Told in John Ames’s joyous, rambling voice that finds beauty, humour and truth in the smallest of life’s details, Gilead is a song of celebration and acceptance of the best and the worst the world has to offer. At its heart is a tale of the sacred bonds between fathers and sons, pitch-perfect in style and story, set to dazzle critics and readers alike.'"
      ]
     },
     "execution_count": 25,
     "metadata": {},
     "output_type": "execute_result"
    }
   ],
   "execution_count": 25
  },
  {
   "metadata": {
    "ExecuteTime": {
     "end_time": "2025-10-06T19:30:29.905851Z",
     "start_time": "2025-10-06T19:30:22.849437Z"
    }
   },
   "cell_type": "code",
   "source": "classifier(books[\"description\"][0])\n",
   "id": "25a1e1eae503e713",
   "outputs": [
    {
     "data": {
      "text/plain": [
       "[[{'label': 'fear', 'score': 0.6548418998718262},\n",
       "  {'label': 'neutral', 'score': 0.16985182464122772},\n",
       "  {'label': 'sadness', 'score': 0.11640854179859161},\n",
       "  {'label': 'surprise', 'score': 0.020700592547655106},\n",
       "  {'label': 'disgust', 'score': 0.01910073682665825},\n",
       "  {'label': 'joy', 'score': 0.015161239542067051},\n",
       "  {'label': 'anger', 'score': 0.00393515033647418}]]"
      ]
     },
     "execution_count": 26,
     "metadata": {},
     "output_type": "execute_result"
    }
   ],
   "execution_count": 26
  },
  {
   "metadata": {
    "ExecuteTime": {
     "end_time": "2025-10-06T19:30:30.932712Z",
     "start_time": "2025-10-06T19:30:29.951154Z"
    }
   },
   "cell_type": "code",
   "source": "classifier(books[\"description\"][0].split(\".\"))\n",
   "id": "a1b2f907c7200e38",
   "outputs": [
    {
     "data": {
      "text/plain": [
       "[[{'label': 'surprise', 'score': 0.7296027541160583},\n",
       "  {'label': 'neutral', 'score': 0.14038576185703278},\n",
       "  {'label': 'fear', 'score': 0.06816209107637405},\n",
       "  {'label': 'joy', 'score': 0.04794240742921829},\n",
       "  {'label': 'anger', 'score': 0.00915635284036398},\n",
       "  {'label': 'disgust', 'score': 0.0026284719351679087},\n",
       "  {'label': 'sadness', 'score': 0.0021221607457846403}],\n",
       " [{'label': 'neutral', 'score': 0.449370414018631},\n",
       "  {'label': 'disgust', 'score': 0.27359241247177124},\n",
       "  {'label': 'joy', 'score': 0.10908260941505432},\n",
       "  {'label': 'sadness', 'score': 0.09362703561782837},\n",
       "  {'label': 'anger', 'score': 0.040478307753801346},\n",
       "  {'label': 'surprise', 'score': 0.02697017230093479},\n",
       "  {'label': 'fear', 'score': 0.006879065651446581}],\n",
       " [{'label': 'neutral', 'score': 0.6462168097496033},\n",
       "  {'label': 'sadness', 'score': 0.2427326887845993},\n",
       "  {'label': 'disgust', 'score': 0.04342268034815788},\n",
       "  {'label': 'surprise', 'score': 0.028300466015934944},\n",
       "  {'label': 'joy', 'score': 0.014211482368409634},\n",
       "  {'label': 'fear', 'score': 0.014084089547395706},\n",
       "  {'label': 'anger', 'score': 0.011031883768737316}],\n",
       " [{'label': 'fear', 'score': 0.928168535232544},\n",
       "  {'label': 'anger', 'score': 0.0321907103061676},\n",
       "  {'label': 'neutral', 'score': 0.012808633036911488},\n",
       "  {'label': 'sadness', 'score': 0.00875683594495058},\n",
       "  {'label': 'surprise', 'score': 0.008597894571721554},\n",
       "  {'label': 'disgust', 'score': 0.008431794121861458},\n",
       "  {'label': 'joy', 'score': 0.0010455806041136384}],\n",
       " [{'label': 'sadness', 'score': 0.9671575427055359},\n",
       "  {'label': 'neutral', 'score': 0.015104170888662338},\n",
       "  {'label': 'disgust', 'score': 0.006480592768639326},\n",
       "  {'label': 'fear', 'score': 0.005393994972109795},\n",
       "  {'label': 'surprise', 'score': 0.0022869433742016554},\n",
       "  {'label': 'anger', 'score': 0.0018428886542096734},\n",
       "  {'label': 'joy', 'score': 0.001733880490064621}],\n",
       " [{'label': 'joy', 'score': 0.9327982664108276},\n",
       "  {'label': 'disgust', 'score': 0.03771686181426048},\n",
       "  {'label': 'neutral', 'score': 0.015891842544078827},\n",
       "  {'label': 'sadness', 'score': 0.006444473285228014},\n",
       "  {'label': 'anger', 'score': 0.005024951882660389},\n",
       "  {'label': 'surprise', 'score': 0.0015812074998393655},\n",
       "  {'label': 'fear', 'score': 0.0005423047696240246}],\n",
       " [{'label': 'joy', 'score': 0.6528704166412354},\n",
       "  {'label': 'neutral', 'score': 0.254274845123291},\n",
       "  {'label': 'surprise', 'score': 0.06808319687843323},\n",
       "  {'label': 'sadness', 'score': 0.009908993728458881},\n",
       "  {'label': 'disgust', 'score': 0.00651219068095088},\n",
       "  {'label': 'anger', 'score': 0.004821313079446554},\n",
       "  {'label': 'fear', 'score': 0.003529015462845564}],\n",
       " [{'label': 'neutral', 'score': 0.5494767427444458},\n",
       "  {'label': 'sadness', 'score': 0.11169015616178513},\n",
       "  {'label': 'disgust', 'score': 0.10400672256946564},\n",
       "  {'label': 'surprise', 'score': 0.07876548916101456},\n",
       "  {'label': 'anger', 'score': 0.06413363665342331},\n",
       "  {'label': 'fear', 'score': 0.05136279761791229},\n",
       "  {'label': 'joy', 'score': 0.040564414113759995}]]"
      ]
     },
     "execution_count": 27,
     "metadata": {},
     "output_type": "execute_result"
    }
   ],
   "execution_count": 27
  },
  {
   "metadata": {
    "ExecuteTime": {
     "end_time": "2025-10-06T19:30:31.942323Z",
     "start_time": "2025-10-06T19:30:31.149413Z"
    }
   },
   "cell_type": "code",
   "source": [
    "sentences = books[\"description\"][0].split(\".\")\n",
    "predictions = classifier(sentences)\n",
    "sentences[0]\n"
   ],
   "id": "96d0226b2ce994fe",
   "outputs": [
    {
     "data": {
      "text/plain": [
       "'A NOVEL THAT READERS and critics have been eagerly anticipating for over a decade, Gilead is an astonishingly imagined story of remarkable lives'"
      ]
     },
     "execution_count": 28,
     "metadata": {},
     "output_type": "execute_result"
    }
   ],
   "execution_count": 28
  },
  {
   "metadata": {
    "ExecuteTime": {
     "end_time": "2025-10-06T19:30:32.146432Z",
     "start_time": "2025-10-06T19:30:32.134045Z"
    }
   },
   "cell_type": "code",
   "source": "predictions[0]\n",
   "id": "255bbef23aa89908",
   "outputs": [
    {
     "data": {
      "text/plain": [
       "[{'label': 'surprise', 'score': 0.7296027541160583},\n",
       " {'label': 'neutral', 'score': 0.14038576185703278},\n",
       " {'label': 'fear', 'score': 0.06816209107637405},\n",
       " {'label': 'joy', 'score': 0.04794240742921829},\n",
       " {'label': 'anger', 'score': 0.00915635284036398},\n",
       " {'label': 'disgust', 'score': 0.0026284719351679087},\n",
       " {'label': 'sadness', 'score': 0.0021221607457846403}]"
      ]
     },
     "execution_count": 29,
     "metadata": {},
     "output_type": "execute_result"
    }
   ],
   "execution_count": 29
  },
  {
   "metadata": {
    "ExecuteTime": {
     "end_time": "2025-10-06T19:30:32.253697Z",
     "start_time": "2025-10-06T19:30:32.208325Z"
    }
   },
   "cell_type": "code",
   "source": [
    "import numpy as np\n",
    "\n",
    "emotion_labels = [\"anger\", \"disgust\", \"fear\", \"joy\", \"sadness\", \"surprise\", \"neutral\"]\n",
    "isbn = []\n",
    "emotion_scores = {label: [] for label in emotion_labels}\n",
    "\n",
    "def calculate_average_emotion_scores(predictions):\n",
    "    per_emotion_scores = {label: [] for label in emotion_labels}\n",
    "    for prediction in predictions:\n",
    "        sorted_predictions = sorted(prediction, key=lambda x: x[\"label\"])\n",
    "        for index, label in enumerate(emotion_labels):\n",
    "            per_emotion_scores[label].append(sorted_predictions[index][\"score\"])\n",
    "    return {label: np.mean(scores) for label, scores in per_emotion_scores.items()}"
   ],
   "id": "7eb59662bde07756",
   "outputs": [],
   "execution_count": 30
  },
  {
   "metadata": {
    "ExecuteTime": {
     "end_time": "2025-10-06T19:30:37.581570Z",
     "start_time": "2025-10-06T19:30:33.793048Z"
    }
   },
   "cell_type": "code",
   "source": [
    "for i in range(10):\n",
    "    isbn.append(books[\"isbn13\"][i])\n",
    "    sentences = books[\"description\"][i].split(\".\")\n",
    "    predictions = classifier(sentences)\n",
    "    average_scores = calculate_average_emotion_scores(predictions)\n",
    "    for label in emotion_labels:\n",
    "        emotion_scores[label].append(average_scores[label])\n"
   ],
   "id": "ea91e70e67252b51",
   "outputs": [],
   "execution_count": 31
  },
  {
   "metadata": {
    "ExecuteTime": {
     "end_time": "2025-10-06T19:30:37.697881Z",
     "start_time": "2025-10-06T19:30:37.681834Z"
    }
   },
   "cell_type": "code",
   "source": "emotion_scores\n",
   "id": "4873d0652849e282",
   "outputs": [
    {
     "data": {
      "text/plain": [
       "{'anger': [np.float64(0.02108500561735127),\n",
       "  np.float64(0.0887243835721165),\n",
       "  np.float64(0.03539548278786242),\n",
       "  np.float64(0.039533850736916065),\n",
       "  np.float64(0.10958813922479749),\n",
       "  np.float64(0.04434006807527372),\n",
       "  np.float64(0.13018580223433673),\n",
       "  np.float64(0.11615158325399864),\n",
       "  np.float64(0.030368382188801963),\n",
       "  np.float64(0.03652489511296153)],\n",
       " 'disgust': [np.float64(0.06034896583878435),\n",
       "  np.float64(0.07088199253194034),\n",
       "  np.float64(0.054111577570438385),\n",
       "  np.float64(0.04336955479811877),\n",
       "  np.float64(0.07961069187149405),\n",
       "  np.float64(0.08300441250737224),\n",
       "  np.float64(0.3451300992164761),\n",
       "  np.float64(0.05647664523514157),\n",
       "  np.float64(0.05007618727783362),\n",
       "  np.float64(0.054716031067073345)],\n",
       " 'fear': [np.float64(0.1347652367912815),\n",
       "  np.float64(0.1727293192059733),\n",
       "  np.float64(0.0304981991648674),\n",
       "  np.float64(0.3759149710337321),\n",
       "  np.float64(0.10391970063210465),\n",
       "  np.float64(0.034571821502010734),\n",
       "  np.float64(0.03092675283551216),\n",
       "  np.float64(0.19363722203045405),\n",
       "  np.float64(0.17755423734585443),\n",
       "  np.float64(0.026576588861644268)],\n",
       " 'joy': [np.float64(0.22503113218408544),\n",
       "  np.float64(0.10825243642320856),\n",
       "  np.float64(0.3028429429978132),\n",
       "  np.float64(0.270090533963715),\n",
       "  np.float64(0.11435630480991676),\n",
       "  np.float64(0.02437988668680191),\n",
       "  np.float64(0.02140704236808233),\n",
       "  np.float64(0.09386651711115106),\n",
       "  np.float64(0.01902167048926155),\n",
       "  np.float64(0.12683326564729214)],\n",
       " 'sadness': [np.float64(0.26044115249533206),\n",
       "  np.float64(0.42163466485217216),\n",
       "  np.float64(0.4607713967561722),\n",
       "  np.float64(0.1987648798773686),\n",
       "  np.float64(0.5162217356264591),\n",
       "  np.float64(0.623001400913511),\n",
       "  np.float64(0.32572560547851026),\n",
       "  np.float64(0.392543109303171),\n",
       "  np.float64(0.2956998758018017),\n",
       "  np.float64(0.6237665116786957)],\n",
       " 'surprise': [np.float64(0.18030498587177135),\n",
       "  np.float64(0.04232527804560959),\n",
       "  np.float64(0.061336553655564785),\n",
       "  np.float64(0.04128357224787275),\n",
       "  np.float64(0.04654843208845705),\n",
       "  np.float64(0.14452898209648474),\n",
       "  np.float64(0.05657161842100322),\n",
       "  np.float64(0.10673045244237239),\n",
       "  np.float64(0.3182328585535288),\n",
       "  np.float64(0.05989960301667452)],\n",
       " 'neutral': [np.float64(0.1180235154897673),\n",
       "  np.float64(0.09545191563665867),\n",
       "  np.float64(0.055043816566467285),\n",
       "  np.float64(0.031042578630149364),\n",
       "  np.float64(0.029754993855021894),\n",
       "  np.float64(0.04617341521329114),\n",
       "  np.float64(0.09005310403881595),\n",
       "  np.float64(0.04059445527805523),\n",
       "  np.float64(0.10904678795486689),\n",
       "  np.float64(0.07168310880661011)]}"
      ]
     },
     "execution_count": 32,
     "metadata": {},
     "output_type": "execute_result"
    }
   ],
   "execution_count": 32
  },
  {
   "metadata": {
    "ExecuteTime": {
     "end_time": "2025-10-06T19:30:42.599680Z",
     "start_time": "2025-10-06T19:30:42.584642Z"
    }
   },
   "cell_type": "code",
   "source": [
    "import numpy as np\n",
    "\n",
    "def normalize_scores(scores_dict):\n",
    "    scores = np.array(list(scores_dict.values()))\n",
    "    normalized = scores / scores.sum() if scores.sum() > 0 else scores\n",
    "    return {label: normalized[i] for i, label in enumerate(scores_dict.keys())}\n"
   ],
   "id": "11c8479e07f6caec",
   "outputs": [],
   "execution_count": 33
  },
  {
   "metadata": {
    "ExecuteTime": {
     "end_time": "2025-10-06T20:03:44.588820Z",
     "start_time": "2025-10-06T19:30:44.964967Z"
    }
   },
   "cell_type": "code",
   "source": [
    "from tqdm import tqdm\n",
    "import numpy as np\n",
    "\n",
    "emotion_labels = [\"anger\", \"disgust\", \"fear\", \"joy\", \"sadness\", \"surprise\", \"neutral\"]\n",
    "isbn = []\n",
    "emotion_scores = {label: [] for label in emotion_labels}\n",
    "\n",
    "def calculate_average_emotion_scores(predictions):\n",
    "    per_emotion_scores = {label: [] for label in emotion_labels}\n",
    "    for prediction in predictions:\n",
    "        sorted_predictions = sorted(prediction, key=lambda x: x[\"label\"])\n",
    "        for index, label in enumerate(emotion_labels):\n",
    "            per_emotion_scores[label].append(sorted_predictions[index][\"score\"])\n",
    "    return {label: np.mean(scores) for label, scores in per_emotion_scores.items()}\n",
    "\n",
    "def normalize_scores(scores_dict):\n",
    "    scores = np.array(list(scores_dict.values()))\n",
    "    normalized = scores / scores.sum() if scores.sum() > 0 else scores\n",
    "    return {label: normalized[i] for i, label in enumerate(scores_dict.keys())}\n",
    "\n",
    "for i in tqdm(range(len(books))):\n",
    "    isbn.append(books[\"isbn13\"][i])\n",
    "    sentences = books[\"description\"][i].split(\".\")\n",
    "    predictions = classifier(sentences)\n",
    "    average_scores = calculate_average_emotion_scores(predictions)\n",
    "    normalized_scores = normalize_scores(average_scores)\n",
    "    for label in emotion_labels:\n",
    "        emotion_scores[label].append(normalized_scores[label])\n"
   ],
   "id": "f939c991be7064b4",
   "outputs": [
    {
     "name": "stderr",
     "output_type": "stream",
     "text": [
      "100%|██████████| 6374/6374 [32:59<00:00,  3.22it/s]  \n"
     ]
    }
   ],
   "execution_count": 34
  },
  {
   "metadata": {
    "ExecuteTime": {
     "end_time": "2025-10-06T20:03:53.459823Z",
     "start_time": "2025-10-06T20:03:53.305202Z"
    }
   },
   "cell_type": "code",
   "source": [
    "emotions_df = pd.DataFrame(emotion_scores)\n",
    "emotions_df[\"isbn13\"] = isbn"
   ],
   "id": "94834a3d377920e2",
   "outputs": [],
   "execution_count": 35
  },
  {
   "metadata": {
    "ExecuteTime": {
     "end_time": "2025-10-06T20:03:54.971050Z",
     "start_time": "2025-10-06T20:03:54.796030Z"
    }
   },
   "cell_type": "code",
   "source": "emotions_df\n",
   "id": "61ebf1f0f0bbe8d7",
   "outputs": [
    {
     "data": {
      "text/plain": [
       "         anger   disgust      fear       joy   sadness  surprise   neutral  \\\n",
       "0     0.021085  0.060349  0.134765  0.225031  0.260441  0.180305  0.118024   \n",
       "1     0.088724  0.070882  0.172729  0.108252  0.421635  0.042325  0.095452   \n",
       "2     0.035395  0.054112  0.030498  0.302843  0.460771  0.061337  0.055044   \n",
       "3     0.039534  0.043370  0.375915  0.270091  0.198765  0.041284  0.031043   \n",
       "4     0.109588  0.079611  0.103920  0.114356  0.516222  0.046548  0.029755   \n",
       "...        ...       ...       ...       ...       ...       ...       ...   \n",
       "6369  0.032901  0.058441  0.025088  0.134224  0.623777  0.034330  0.091239   \n",
       "6370  0.009172  0.007595  0.118272  0.569989  0.245900  0.026647  0.022426   \n",
       "6371  0.015750  0.034882  0.061970  0.141426  0.658565  0.057510  0.029897   \n",
       "6372  0.014982  0.028539  0.011923  0.295203  0.605833  0.020789  0.022731   \n",
       "6373  0.032528  0.052611  0.025936  0.516024  0.275855  0.056298  0.040749   \n",
       "\n",
       "             isbn13  \n",
       "0     9780002005883  \n",
       "1     9780002261982  \n",
       "2     9780006163831  \n",
       "3     9780006178736  \n",
       "4     9780006280897  \n",
       "...             ...  \n",
       "6369  9788173031014  \n",
       "6370  9788179921623  \n",
       "6371  9788185300535  \n",
       "6372  9789027712059  \n",
       "6373  9789042003408  \n",
       "\n",
       "[6374 rows x 8 columns]"
      ],
      "text/html": [
       "<div>\n",
       "<style scoped>\n",
       "    .dataframe tbody tr th:only-of-type {\n",
       "        vertical-align: middle;\n",
       "    }\n",
       "\n",
       "    .dataframe tbody tr th {\n",
       "        vertical-align: top;\n",
       "    }\n",
       "\n",
       "    .dataframe thead th {\n",
       "        text-align: right;\n",
       "    }\n",
       "</style>\n",
       "<table border=\"1\" class=\"dataframe\">\n",
       "  <thead>\n",
       "    <tr style=\"text-align: right;\">\n",
       "      <th></th>\n",
       "      <th>anger</th>\n",
       "      <th>disgust</th>\n",
       "      <th>fear</th>\n",
       "      <th>joy</th>\n",
       "      <th>sadness</th>\n",
       "      <th>surprise</th>\n",
       "      <th>neutral</th>\n",
       "      <th>isbn13</th>\n",
       "    </tr>\n",
       "  </thead>\n",
       "  <tbody>\n",
       "    <tr>\n",
       "      <th>0</th>\n",
       "      <td>0.021085</td>\n",
       "      <td>0.060349</td>\n",
       "      <td>0.134765</td>\n",
       "      <td>0.225031</td>\n",
       "      <td>0.260441</td>\n",
       "      <td>0.180305</td>\n",
       "      <td>0.118024</td>\n",
       "      <td>9780002005883</td>\n",
       "    </tr>\n",
       "    <tr>\n",
       "      <th>1</th>\n",
       "      <td>0.088724</td>\n",
       "      <td>0.070882</td>\n",
       "      <td>0.172729</td>\n",
       "      <td>0.108252</td>\n",
       "      <td>0.421635</td>\n",
       "      <td>0.042325</td>\n",
       "      <td>0.095452</td>\n",
       "      <td>9780002261982</td>\n",
       "    </tr>\n",
       "    <tr>\n",
       "      <th>2</th>\n",
       "      <td>0.035395</td>\n",
       "      <td>0.054112</td>\n",
       "      <td>0.030498</td>\n",
       "      <td>0.302843</td>\n",
       "      <td>0.460771</td>\n",
       "      <td>0.061337</td>\n",
       "      <td>0.055044</td>\n",
       "      <td>9780006163831</td>\n",
       "    </tr>\n",
       "    <tr>\n",
       "      <th>3</th>\n",
       "      <td>0.039534</td>\n",
       "      <td>0.043370</td>\n",
       "      <td>0.375915</td>\n",
       "      <td>0.270091</td>\n",
       "      <td>0.198765</td>\n",
       "      <td>0.041284</td>\n",
       "      <td>0.031043</td>\n",
       "      <td>9780006178736</td>\n",
       "    </tr>\n",
       "    <tr>\n",
       "      <th>4</th>\n",
       "      <td>0.109588</td>\n",
       "      <td>0.079611</td>\n",
       "      <td>0.103920</td>\n",
       "      <td>0.114356</td>\n",
       "      <td>0.516222</td>\n",
       "      <td>0.046548</td>\n",
       "      <td>0.029755</td>\n",
       "      <td>9780006280897</td>\n",
       "    </tr>\n",
       "    <tr>\n",
       "      <th>...</th>\n",
       "      <td>...</td>\n",
       "      <td>...</td>\n",
       "      <td>...</td>\n",
       "      <td>...</td>\n",
       "      <td>...</td>\n",
       "      <td>...</td>\n",
       "      <td>...</td>\n",
       "      <td>...</td>\n",
       "    </tr>\n",
       "    <tr>\n",
       "      <th>6369</th>\n",
       "      <td>0.032901</td>\n",
       "      <td>0.058441</td>\n",
       "      <td>0.025088</td>\n",
       "      <td>0.134224</td>\n",
       "      <td>0.623777</td>\n",
       "      <td>0.034330</td>\n",
       "      <td>0.091239</td>\n",
       "      <td>9788173031014</td>\n",
       "    </tr>\n",
       "    <tr>\n",
       "      <th>6370</th>\n",
       "      <td>0.009172</td>\n",
       "      <td>0.007595</td>\n",
       "      <td>0.118272</td>\n",
       "      <td>0.569989</td>\n",
       "      <td>0.245900</td>\n",
       "      <td>0.026647</td>\n",
       "      <td>0.022426</td>\n",
       "      <td>9788179921623</td>\n",
       "    </tr>\n",
       "    <tr>\n",
       "      <th>6371</th>\n",
       "      <td>0.015750</td>\n",
       "      <td>0.034882</td>\n",
       "      <td>0.061970</td>\n",
       "      <td>0.141426</td>\n",
       "      <td>0.658565</td>\n",
       "      <td>0.057510</td>\n",
       "      <td>0.029897</td>\n",
       "      <td>9788185300535</td>\n",
       "    </tr>\n",
       "    <tr>\n",
       "      <th>6372</th>\n",
       "      <td>0.014982</td>\n",
       "      <td>0.028539</td>\n",
       "      <td>0.011923</td>\n",
       "      <td>0.295203</td>\n",
       "      <td>0.605833</td>\n",
       "      <td>0.020789</td>\n",
       "      <td>0.022731</td>\n",
       "      <td>9789027712059</td>\n",
       "    </tr>\n",
       "    <tr>\n",
       "      <th>6373</th>\n",
       "      <td>0.032528</td>\n",
       "      <td>0.052611</td>\n",
       "      <td>0.025936</td>\n",
       "      <td>0.516024</td>\n",
       "      <td>0.275855</td>\n",
       "      <td>0.056298</td>\n",
       "      <td>0.040749</td>\n",
       "      <td>9789042003408</td>\n",
       "    </tr>\n",
       "  </tbody>\n",
       "</table>\n",
       "<p>6374 rows × 8 columns</p>\n",
       "</div>"
      ]
     },
     "execution_count": 36,
     "metadata": {},
     "output_type": "execute_result"
    }
   ],
   "execution_count": 36
  },
  {
   "metadata": {
    "ExecuteTime": {
     "end_time": "2025-10-06T20:04:37.081675Z",
     "start_time": "2025-10-06T20:04:36.833371Z"
    }
   },
   "cell_type": "code",
   "source": "books = pd.merge(books, emotions_df, on = \"isbn13\")\n",
   "id": "888208417ed5b175",
   "outputs": [],
   "execution_count": 37
  },
  {
   "metadata": {
    "ExecuteTime": {
     "end_time": "2025-10-06T20:04:45.650935Z",
     "start_time": "2025-10-06T20:04:44.063747Z"
    }
   },
   "cell_type": "code",
   "source": "books.to_csv(\"books_with_emotions.csv\", index = False)",
   "id": "f05235d4bdf31131",
   "outputs": [],
   "execution_count": 38
  },
  {
   "metadata": {},
   "cell_type": "code",
   "outputs": [],
   "execution_count": null,
   "source": "",
   "id": "b79566e7562917ca"
  }
 ],
 "metadata": {
  "kernelspec": {
   "display_name": "Python 3",
   "language": "python",
   "name": "python3"
  },
  "language_info": {
   "codemirror_mode": {
    "name": "ipython",
    "version": 2
   },
   "file_extension": ".py",
   "mimetype": "text/x-python",
   "name": "python",
   "nbconvert_exporter": "python",
   "pygments_lexer": "ipython2",
   "version": "2.7.6"
  }
 },
 "nbformat": 4,
 "nbformat_minor": 5
}
